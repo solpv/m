{
 "cells": [
  {
   "cell_type": "code",
   "execution_count": 1,
   "id": "c2fc5d71",
   "metadata": {},
   "outputs": [
    {
     "name": "stdout",
     "output_type": "stream",
     "text": [
      "Requirement already satisfied: tensorflow in c:\\users\\hp\\anaconda3\\lib\\site-packages (2.14.0)\n",
      "Requirement already satisfied: tensorflow-intel==2.14.0 in c:\\users\\hp\\anaconda3\\lib\\site-packages (from tensorflow) (2.14.0)\n",
      "Requirement already satisfied: opt-einsum>=2.3.2 in c:\\users\\hp\\anaconda3\\lib\\site-packages (from tensorflow-intel==2.14.0->tensorflow) (3.3.0)\n",
      "Requirement already satisfied: h5py>=2.9.0 in c:\\users\\hp\\anaconda3\\lib\\site-packages (from tensorflow-intel==2.14.0->tensorflow) (3.7.0)\n",
      "Requirement already satisfied: wrapt<1.15,>=1.11.0 in c:\\users\\hp\\anaconda3\\lib\\site-packages (from tensorflow-intel==2.14.0->tensorflow) (1.14.1)\n",
      "Requirement already satisfied: astunparse>=1.6.0 in c:\\users\\hp\\anaconda3\\lib\\site-packages (from tensorflow-intel==2.14.0->tensorflow) (1.6.3)\n",
      "Requirement already satisfied: tensorflow-estimator<2.15,>=2.14.0 in c:\\users\\hp\\anaconda3\\lib\\site-packages (from tensorflow-intel==2.14.0->tensorflow) (2.14.0)\n",
      "Requirement already satisfied: keras<2.15,>=2.14.0 in c:\\users\\hp\\anaconda3\\lib\\site-packages (from tensorflow-intel==2.14.0->tensorflow) (2.14.0)\n",
      "Requirement already satisfied: numpy>=1.23.5 in c:\\users\\hp\\anaconda3\\lib\\site-packages (from tensorflow-intel==2.14.0->tensorflow) (1.23.5)\n",
      "Requirement already satisfied: gast!=0.5.0,!=0.5.1,!=0.5.2,>=0.2.1 in c:\\users\\hp\\anaconda3\\lib\\site-packages (from tensorflow-intel==2.14.0->tensorflow) (0.5.4)\n",
      "Requirement already satisfied: google-pasta>=0.1.1 in c:\\users\\hp\\anaconda3\\lib\\site-packages (from tensorflow-intel==2.14.0->tensorflow) (0.2.0)\n",
      "Requirement already satisfied: packaging in c:\\users\\hp\\anaconda3\\lib\\site-packages (from tensorflow-intel==2.14.0->tensorflow) (22.0)\n",
      "Requirement already satisfied: tensorflow-io-gcs-filesystem>=0.23.1 in c:\\users\\hp\\anaconda3\\lib\\site-packages (from tensorflow-intel==2.14.0->tensorflow) (0.31.0)\n",
      "Requirement already satisfied: protobuf!=4.21.0,!=4.21.1,!=4.21.2,!=4.21.3,!=4.21.4,!=4.21.5,<5.0.0dev,>=3.20.3 in c:\\users\\hp\\anaconda3\\lib\\site-packages (from tensorflow-intel==2.14.0->tensorflow) (4.24.4)\n",
      "Requirement already satisfied: libclang>=13.0.0 in c:\\users\\hp\\anaconda3\\lib\\site-packages (from tensorflow-intel==2.14.0->tensorflow) (16.0.6)\n",
      "Requirement already satisfied: tensorboard<2.15,>=2.14 in c:\\users\\hp\\anaconda3\\lib\\site-packages (from tensorflow-intel==2.14.0->tensorflow) (2.14.1)\n",
      "Requirement already satisfied: absl-py>=1.0.0 in c:\\users\\hp\\anaconda3\\lib\\site-packages (from tensorflow-intel==2.14.0->tensorflow) (2.0.0)\n",
      "Requirement already satisfied: typing-extensions>=3.6.6 in c:\\users\\hp\\anaconda3\\lib\\site-packages (from tensorflow-intel==2.14.0->tensorflow) (4.4.0)\n",
      "Requirement already satisfied: flatbuffers>=23.5.26 in c:\\users\\hp\\anaconda3\\lib\\site-packages (from tensorflow-intel==2.14.0->tensorflow) (23.5.26)\n",
      "Requirement already satisfied: termcolor>=1.1.0 in c:\\users\\hp\\anaconda3\\lib\\site-packages (from tensorflow-intel==2.14.0->tensorflow) (2.3.0)\n",
      "Requirement already satisfied: setuptools in c:\\users\\hp\\anaconda3\\lib\\site-packages (from tensorflow-intel==2.14.0->tensorflow) (65.6.3)\n",
      "Requirement already satisfied: six>=1.12.0 in c:\\users\\hp\\anaconda3\\lib\\site-packages (from tensorflow-intel==2.14.0->tensorflow) (1.16.0)\n",
      "Requirement already satisfied: grpcio<2.0,>=1.24.3 in c:\\users\\hp\\anaconda3\\lib\\site-packages (from tensorflow-intel==2.14.0->tensorflow) (1.59.0)\n",
      "Requirement already satisfied: ml-dtypes==0.2.0 in c:\\users\\hp\\anaconda3\\lib\\site-packages (from tensorflow-intel==2.14.0->tensorflow) (0.2.0)\n",
      "Requirement already satisfied: wheel<1.0,>=0.23.0 in c:\\users\\hp\\anaconda3\\lib\\site-packages (from astunparse>=1.6.0->tensorflow-intel==2.14.0->tensorflow) (0.38.4)\n",
      "Requirement already satisfied: markdown>=2.6.8 in c:\\users\\hp\\anaconda3\\lib\\site-packages (from tensorboard<2.15,>=2.14->tensorflow-intel==2.14.0->tensorflow) (3.4.1)\n",
      "Requirement already satisfied: tensorboard-data-server<0.8.0,>=0.7.0 in c:\\users\\hp\\anaconda3\\lib\\site-packages (from tensorboard<2.15,>=2.14->tensorflow-intel==2.14.0->tensorflow) (0.7.1)\n",
      "Requirement already satisfied: requests<3,>=2.21.0 in c:\\users\\hp\\anaconda3\\lib\\site-packages (from tensorboard<2.15,>=2.14->tensorflow-intel==2.14.0->tensorflow) (2.28.1)\n",
      "Requirement already satisfied: google-auth-oauthlib<1.1,>=0.5 in c:\\users\\hp\\anaconda3\\lib\\site-packages (from tensorboard<2.15,>=2.14->tensorflow-intel==2.14.0->tensorflow) (1.0.0)\n",
      "Requirement already satisfied: werkzeug>=1.0.1 in c:\\users\\hp\\anaconda3\\lib\\site-packages (from tensorboard<2.15,>=2.14->tensorflow-intel==2.14.0->tensorflow) (2.2.2)\n",
      "Requirement already satisfied: google-auth<3,>=1.6.3 in c:\\users\\hp\\anaconda3\\lib\\site-packages (from tensorboard<2.15,>=2.14->tensorflow-intel==2.14.0->tensorflow) (2.23.3)\n",
      "Requirement already satisfied: cachetools<6.0,>=2.0.0 in c:\\users\\hp\\anaconda3\\lib\\site-packages (from google-auth<3,>=1.6.3->tensorboard<2.15,>=2.14->tensorflow-intel==2.14.0->tensorflow) (5.3.1)\n",
      "Requirement already satisfied: rsa<5,>=3.1.4 in c:\\users\\hp\\anaconda3\\lib\\site-packages (from google-auth<3,>=1.6.3->tensorboard<2.15,>=2.14->tensorflow-intel==2.14.0->tensorflow) (4.9)\n",
      "Requirement already satisfied: pyasn1-modules>=0.2.1 in c:\\users\\hp\\anaconda3\\lib\\site-packages (from google-auth<3,>=1.6.3->tensorboard<2.15,>=2.14->tensorflow-intel==2.14.0->tensorflow) (0.2.8)\n",
      "Requirement already satisfied: requests-oauthlib>=0.7.0 in c:\\users\\hp\\anaconda3\\lib\\site-packages (from google-auth-oauthlib<1.1,>=0.5->tensorboard<2.15,>=2.14->tensorflow-intel==2.14.0->tensorflow) (1.3.1)\n",
      "Requirement already satisfied: idna<4,>=2.5 in c:\\users\\hp\\anaconda3\\lib\\site-packages (from requests<3,>=2.21.0->tensorboard<2.15,>=2.14->tensorflow-intel==2.14.0->tensorflow) (3.4)\n",
      "Requirement already satisfied: certifi>=2017.4.17 in c:\\users\\hp\\anaconda3\\lib\\site-packages (from requests<3,>=2.21.0->tensorboard<2.15,>=2.14->tensorflow-intel==2.14.0->tensorflow) (2022.12.7)\n",
      "Requirement already satisfied: urllib3<1.27,>=1.21.1 in c:\\users\\hp\\anaconda3\\lib\\site-packages (from requests<3,>=2.21.0->tensorboard<2.15,>=2.14->tensorflow-intel==2.14.0->tensorflow) (1.26.14)\n",
      "Requirement already satisfied: charset-normalizer<3,>=2 in c:\\users\\hp\\anaconda3\\lib\\site-packages (from requests<3,>=2.21.0->tensorboard<2.15,>=2.14->tensorflow-intel==2.14.0->tensorflow) (2.0.4)\n",
      "Requirement already satisfied: MarkupSafe>=2.1.1 in c:\\users\\hp\\anaconda3\\lib\\site-packages (from werkzeug>=1.0.1->tensorboard<2.15,>=2.14->tensorflow-intel==2.14.0->tensorflow) (2.1.1)\n",
      "Requirement already satisfied: pyasn1<0.5.0,>=0.4.6 in c:\\users\\hp\\anaconda3\\lib\\site-packages (from pyasn1-modules>=0.2.1->google-auth<3,>=1.6.3->tensorboard<2.15,>=2.14->tensorflow-intel==2.14.0->tensorflow) (0.4.8)\n",
      "Requirement already satisfied: oauthlib>=3.0.0 in c:\\users\\hp\\anaconda3\\lib\\site-packages (from requests-oauthlib>=0.7.0->google-auth-oauthlib<1.1,>=0.5->tensorboard<2.15,>=2.14->tensorflow-intel==2.14.0->tensorflow) (3.2.2)\n",
      "Note: you may need to restart the kernel to use updated packages.\n"
     ]
    }
   ],
   "source": [
    "pip install tensorflow"
   ]
  },
  {
   "cell_type": "code",
   "execution_count": 2,
   "id": "47781660",
   "metadata": {},
   "outputs": [],
   "source": [
    "\n",
    "\n",
    "import pandas as pd\n",
    "import numpy as np\n",
    "import seaborn as sns\n",
    "import matplotlib.pyplot as plt\n",
    "import tensorflow as tf"
   ]
  },
  {
   "cell_type": "code",
   "execution_count": 3,
   "id": "8ef3725f",
   "metadata": {},
   "outputs": [
    {
     "data": {
      "text/html": [
       "<div>\n",
       "<style scoped>\n",
       "    .dataframe tbody tr th:only-of-type {\n",
       "        vertical-align: middle;\n",
       "    }\n",
       "\n",
       "    .dataframe tbody tr th {\n",
       "        vertical-align: top;\n",
       "    }\n",
       "\n",
       "    .dataframe thead th {\n",
       "        text-align: right;\n",
       "    }\n",
       "</style>\n",
       "<table border=\"1\" class=\"dataframe\">\n",
       "  <thead>\n",
       "    <tr style=\"text-align: right;\">\n",
       "      <th></th>\n",
       "      <th>RowNumber</th>\n",
       "      <th>CustomerId</th>\n",
       "      <th>Surname</th>\n",
       "      <th>CreditScore</th>\n",
       "      <th>Geography</th>\n",
       "      <th>Gender</th>\n",
       "      <th>Age</th>\n",
       "      <th>Tenure</th>\n",
       "      <th>Balance</th>\n",
       "      <th>NumOfProducts</th>\n",
       "      <th>HasCrCard</th>\n",
       "      <th>IsActiveMember</th>\n",
       "      <th>EstimatedSalary</th>\n",
       "      <th>Exited</th>\n",
       "    </tr>\n",
       "  </thead>\n",
       "  <tbody>\n",
       "    <tr>\n",
       "      <th>0</th>\n",
       "      <td>1</td>\n",
       "      <td>15634602</td>\n",
       "      <td>Hargrave</td>\n",
       "      <td>619</td>\n",
       "      <td>France</td>\n",
       "      <td>Female</td>\n",
       "      <td>42</td>\n",
       "      <td>2</td>\n",
       "      <td>0.00</td>\n",
       "      <td>1</td>\n",
       "      <td>1</td>\n",
       "      <td>1</td>\n",
       "      <td>101348.88</td>\n",
       "      <td>1</td>\n",
       "    </tr>\n",
       "    <tr>\n",
       "      <th>1</th>\n",
       "      <td>2</td>\n",
       "      <td>15647311</td>\n",
       "      <td>Hill</td>\n",
       "      <td>608</td>\n",
       "      <td>Spain</td>\n",
       "      <td>Female</td>\n",
       "      <td>41</td>\n",
       "      <td>1</td>\n",
       "      <td>83807.86</td>\n",
       "      <td>1</td>\n",
       "      <td>0</td>\n",
       "      <td>1</td>\n",
       "      <td>112542.58</td>\n",
       "      <td>0</td>\n",
       "    </tr>\n",
       "    <tr>\n",
       "      <th>2</th>\n",
       "      <td>3</td>\n",
       "      <td>15619304</td>\n",
       "      <td>Onio</td>\n",
       "      <td>502</td>\n",
       "      <td>France</td>\n",
       "      <td>Female</td>\n",
       "      <td>42</td>\n",
       "      <td>8</td>\n",
       "      <td>159660.80</td>\n",
       "      <td>3</td>\n",
       "      <td>1</td>\n",
       "      <td>0</td>\n",
       "      <td>113931.57</td>\n",
       "      <td>1</td>\n",
       "    </tr>\n",
       "    <tr>\n",
       "      <th>3</th>\n",
       "      <td>4</td>\n",
       "      <td>15701354</td>\n",
       "      <td>Boni</td>\n",
       "      <td>699</td>\n",
       "      <td>France</td>\n",
       "      <td>Female</td>\n",
       "      <td>39</td>\n",
       "      <td>1</td>\n",
       "      <td>0.00</td>\n",
       "      <td>2</td>\n",
       "      <td>0</td>\n",
       "      <td>0</td>\n",
       "      <td>93826.63</td>\n",
       "      <td>0</td>\n",
       "    </tr>\n",
       "    <tr>\n",
       "      <th>4</th>\n",
       "      <td>5</td>\n",
       "      <td>15737888</td>\n",
       "      <td>Mitchell</td>\n",
       "      <td>850</td>\n",
       "      <td>Spain</td>\n",
       "      <td>Female</td>\n",
       "      <td>43</td>\n",
       "      <td>2</td>\n",
       "      <td>125510.82</td>\n",
       "      <td>1</td>\n",
       "      <td>1</td>\n",
       "      <td>1</td>\n",
       "      <td>79084.10</td>\n",
       "      <td>0</td>\n",
       "    </tr>\n",
       "  </tbody>\n",
       "</table>\n",
       "</div>"
      ],
      "text/plain": [
       "   RowNumber  CustomerId   Surname  CreditScore Geography  Gender  Age  \\\n",
       "0          1    15634602  Hargrave          619    France  Female   42   \n",
       "1          2    15647311      Hill          608     Spain  Female   41   \n",
       "2          3    15619304      Onio          502    France  Female   42   \n",
       "3          4    15701354      Boni          699    France  Female   39   \n",
       "4          5    15737888  Mitchell          850     Spain  Female   43   \n",
       "\n",
       "   Tenure    Balance  NumOfProducts  HasCrCard  IsActiveMember  \\\n",
       "0       2       0.00              1          1               1   \n",
       "1       1   83807.86              1          0               1   \n",
       "2       8  159660.80              3          1               0   \n",
       "3       1       0.00              2          0               0   \n",
       "4       2  125510.82              1          1               1   \n",
       "\n",
       "   EstimatedSalary  Exited  \n",
       "0        101348.88       1  \n",
       "1        112542.58       0  \n",
       "2        113931.57       1  \n",
       "3         93826.63       0  \n",
       "4         79084.10       0  "
      ]
     },
     "execution_count": 3,
     "metadata": {},
     "output_type": "execute_result"
    }
   ],
   "source": [
    "df = pd.read_csv('Churn_Modelling.csv')\n",
    "df.head()"
   ]
  },
  {
   "cell_type": "code",
   "execution_count": 4,
   "id": "8a502a77",
   "metadata": {},
   "outputs": [
    {
     "name": "stdout",
     "output_type": "stream",
     "text": [
      "<class 'pandas.core.frame.DataFrame'>\n",
      "RangeIndex: 10000 entries, 0 to 9999\n",
      "Data columns (total 14 columns):\n",
      " #   Column           Non-Null Count  Dtype  \n",
      "---  ------           --------------  -----  \n",
      " 0   RowNumber        10000 non-null  int64  \n",
      " 1   CustomerId       10000 non-null  int64  \n",
      " 2   Surname          10000 non-null  object \n",
      " 3   CreditScore      10000 non-null  int64  \n",
      " 4   Geography        10000 non-null  object \n",
      " 5   Gender           10000 non-null  object \n",
      " 6   Age              10000 non-null  int64  \n",
      " 7   Tenure           10000 non-null  int64  \n",
      " 8   Balance          10000 non-null  float64\n",
      " 9   NumOfProducts    10000 non-null  int64  \n",
      " 10  HasCrCard        10000 non-null  int64  \n",
      " 11  IsActiveMember   10000 non-null  int64  \n",
      " 12  EstimatedSalary  10000 non-null  float64\n",
      " 13  Exited           10000 non-null  int64  \n",
      "dtypes: float64(2), int64(9), object(3)\n",
      "memory usage: 1.1+ MB\n"
     ]
    }
   ],
   "source": [
    "df.info()"
   ]
  },
  {
   "cell_type": "code",
   "execution_count": 5,
   "id": "6fec73e5",
   "metadata": {},
   "outputs": [
    {
     "data": {
      "image/png": "[encoded data removed]",
      "text/plain": [
       "<Figure size 640x480 with 1 Axes>"
      ]
     },
     "metadata": {},
     "output_type": "display_data"
    }
   ],
   "source": [
    "plt.xlabel('Exited')\n",
    "plt.ylabel('Count')\n",
    "df['Exited'].value_counts().plot.bar()\n",
    "plt.show()"
   ]
  },
  {
   "cell_type": "code",
   "execution_count": 6,
   "id": "2e1607ba",
   "metadata": {},
   "outputs": [
    {
     "data": {
      "text/plain": [
       "France     5014\n",
       "Germany    2509\n",
       "Spain      2477\n",
       "Name: Geography, dtype: int64"
      ]
     },
     "execution_count": 6,
     "metadata": {},
     "output_type": "execute_result"
    }
   ],
   "source": [
    "df['Geography'].value_counts()"
   ]
  },
  {
   "cell_type": "code",
   "execution_count": 7,
   "id": "3c36810b",
   "metadata": {},
   "outputs": [],
   "source": [
    "df = pd.concat([df,pd.get_dummies(df['Geography'],prefix='Geo')],axis=1)"
   ]
  },
  {
   "cell_type": "code",
   "execution_count": 8,
   "id": "b927ee76",
   "metadata": {},
   "outputs": [],
   "source": [
    "df = pd.concat([df,pd.get_dummies(df['Gender'])],axis=1)"
   ]
  },
  {
   "cell_type": "code",
   "execution_count": 9,
   "id": "6c2dd69e",
   "metadata": {},
   "outputs": [
    {
     "name": "stdout",
     "output_type": "stream",
     "text": [
      "<class 'pandas.core.frame.DataFrame'>\n",
      "RangeIndex: 10000 entries, 0 to 9999\n",
      "Data columns (total 19 columns):\n",
      " #   Column           Non-Null Count  Dtype  \n",
      "---  ------           --------------  -----  \n",
      " 0   RowNumber        10000 non-null  int64  \n",
      " 1   CustomerId       10000 non-null  int64  \n",
      " 2   Surname          10000 non-null  object \n",
      " 3   CreditScore      10000 non-null  int64  \n",
      " 4   Geography        10000 non-null  object \n",
      " 5   Gender           10000 non-null  object \n",
      " 6   Age              10000 non-null  int64  \n",
      " 7   Tenure           10000 non-null  int64  \n",
      " 8   Balance          10000 non-null  float64\n",
      " 9   NumOfProducts    10000 non-null  int64  \n",
      " 10  HasCrCard        10000 non-null  int64  \n",
      " 11  IsActiveMember   10000 non-null  int64  \n",
      " 12  EstimatedSalary  10000 non-null  float64\n",
      " 13  Exited           10000 non-null  int64  \n",
      " 14  Geo_France       10000 non-null  uint8  \n",
      " 15  Geo_Germany      10000 non-null  uint8  \n",
      " 16  Geo_Spain        10000 non-null  uint8  \n",
      " 17  Female           10000 non-null  uint8  \n",
      " 18  Male             10000 non-null  uint8  \n",
      "dtypes: float64(2), int64(9), object(3), uint8(5)\n",
      "memory usage: 1.1+ MB\n"
     ]
    }
   ],
   "source": [
    "df.info()"
   ]
  },
  {
   "cell_type": "code",
   "execution_count": 10,
   "id": "18a13462",
   "metadata": {},
   "outputs": [],
   "source": [
    "df.drop(columns=['RowNumber','CustomerId','Surname','Geography','Gender'],inplace=True)"
   ]
  },
  {
   "cell_type": "code",
   "execution_count": 11,
   "id": "6b1fbd04",
   "metadata": {},
   "outputs": [
    {
     "data": {
      "text/html": [
       "<div>\n",
       "<style scoped>\n",
       "    .dataframe tbody tr th:only-of-type {\n",
       "        vertical-align: middle;\n",
       "    }\n",
       "\n",
       "    .dataframe tbody tr th {\n",
       "        vertical-align: top;\n",
       "    }\n",
       "\n",
       "    .dataframe thead th {\n",
       "        text-align: right;\n",
       "    }\n",
       "</style>\n",
       "<table border=\"1\" class=\"dataframe\">\n",
       "  <thead>\n",
       "    <tr style=\"text-align: right;\">\n",
       "      <th></th>\n",
       "      <th>CreditScore</th>\n",
       "      <th>Age</th>\n",
       "      <th>Tenure</th>\n",
       "      <th>Balance</th>\n",
       "      <th>NumOfProducts</th>\n",
       "      <th>HasCrCard</th>\n",
       "      <th>IsActiveMember</th>\n",
       "      <th>EstimatedSalary</th>\n",
       "      <th>Exited</th>\n",
       "      <th>Geo_France</th>\n",
       "      <th>Geo_Germany</th>\n",
       "      <th>Geo_Spain</th>\n",
       "      <th>Female</th>\n",
       "      <th>Male</th>\n",
       "    </tr>\n",
       "  </thead>\n",
       "  <tbody>\n",
       "    <tr>\n",
       "      <th>0</th>\n",
       "      <td>619</td>\n",
       "      <td>42</td>\n",
       "      <td>2</td>\n",
       "      <td>0.00</td>\n",
       "      <td>1</td>\n",
       "      <td>1</td>\n",
       "      <td>1</td>\n",
       "      <td>101348.88</td>\n",
       "      <td>1</td>\n",
       "      <td>1</td>\n",
       "      <td>0</td>\n",
       "      <td>0</td>\n",
       "      <td>1</td>\n",
       "      <td>0</td>\n",
       "    </tr>\n",
       "    <tr>\n",
       "      <th>1</th>\n",
       "      <td>608</td>\n",
       "      <td>41</td>\n",
       "      <td>1</td>\n",
       "      <td>83807.86</td>\n",
       "      <td>1</td>\n",
       "      <td>0</td>\n",
       "      <td>1</td>\n",
       "      <td>112542.58</td>\n",
       "      <td>0</td>\n",
       "      <td>0</td>\n",
       "      <td>0</td>\n",
       "      <td>1</td>\n",
       "      <td>1</td>\n",
       "      <td>0</td>\n",
       "    </tr>\n",
       "    <tr>\n",
       "      <th>2</th>\n",
       "      <td>502</td>\n",
       "      <td>42</td>\n",
       "      <td>8</td>\n",
       "      <td>159660.80</td>\n",
       "      <td>3</td>\n",
       "      <td>1</td>\n",
       "      <td>0</td>\n",
       "      <td>113931.57</td>\n",
       "      <td>1</td>\n",
       "      <td>1</td>\n",
       "      <td>0</td>\n",
       "      <td>0</td>\n",
       "      <td>1</td>\n",
       "      <td>0</td>\n",
       "    </tr>\n",
       "    <tr>\n",
       "      <th>3</th>\n",
       "      <td>699</td>\n",
       "      <td>39</td>\n",
       "      <td>1</td>\n",
       "      <td>0.00</td>\n",
       "      <td>2</td>\n",
       "      <td>0</td>\n",
       "      <td>0</td>\n",
       "      <td>93826.63</td>\n",
       "      <td>0</td>\n",
       "      <td>1</td>\n",
       "      <td>0</td>\n",
       "      <td>0</td>\n",
       "      <td>1</td>\n",
       "      <td>0</td>\n",
       "    </tr>\n",
       "    <tr>\n",
       "      <th>4</th>\n",
       "      <td>850</td>\n",
       "      <td>43</td>\n",
       "      <td>2</td>\n",
       "      <td>125510.82</td>\n",
       "      <td>1</td>\n",
       "      <td>1</td>\n",
       "      <td>1</td>\n",
       "      <td>79084.10</td>\n",
       "      <td>0</td>\n",
       "      <td>0</td>\n",
       "      <td>0</td>\n",
       "      <td>1</td>\n",
       "      <td>1</td>\n",
       "      <td>0</td>\n",
       "    </tr>\n",
       "  </tbody>\n",
       "</table>\n",
       "</div>"
      ],
      "text/plain": [
       "   CreditScore  Age  Tenure    Balance  NumOfProducts  HasCrCard  \\\n",
       "0          619   42       2       0.00              1          1   \n",
       "1          608   41       1   83807.86              1          0   \n",
       "2          502   42       8  159660.80              3          1   \n",
       "3          699   39       1       0.00              2          0   \n",
       "4          850   43       2  125510.82              1          1   \n",
       "\n",
       "   IsActiveMember  EstimatedSalary  Exited  Geo_France  Geo_Germany  \\\n",
       "0               1        101348.88       1           1            0   \n",
       "1               1        112542.58       0           0            0   \n",
       "2               0        113931.57       1           1            0   \n",
       "3               0         93826.63       0           1            0   \n",
       "4               1         79084.10       0           0            0   \n",
       "\n",
       "   Geo_Spain  Female  Male  \n",
       "0          0       1     0  \n",
       "1          1       1     0  \n",
       "2          0       1     0  \n",
       "3          0       1     0  \n",
       "4          1       1     0  "
      ]
     },
     "execution_count": 11,
     "metadata": {},
     "output_type": "execute_result"
    }
   ],
   "source": [
    "df.head()"
   ]
  },
  {
   "cell_type": "markdown",
   "id": "1ef3f041",
   "metadata": {},
   "source": [
    "### Splitting Data"
   ]
  },
  {
   "cell_type": "code",
   "execution_count": 12,
   "id": "d8c1e14e",
   "metadata": {},
   "outputs": [],
   "source": [
    "y = df['Exited'].values\n",
    "x = df.loc[:,df.columns != 'Exited'].values"
   ]
  },
  {
   "cell_type": "code",
   "execution_count": 13,
   "id": "f513b1b9",
   "metadata": {},
   "outputs": [],
   "source": [
    "from sklearn.model_selection import train_test_split\n",
    "x_train,x_test,y_train,y_test = train_test_split(x,y,random_state=20,test_size=0.25)"
   ]
  },
  {
   "cell_type": "markdown",
   "id": "d8205cea",
   "metadata": {},
   "source": [
    "### Scaling Data"
   ]
  },
  {
   "cell_type": "code",
   "execution_count": 14,
   "id": "fb62677e",
   "metadata": {},
   "outputs": [],
   "source": [
    "from sklearn.preprocessing import StandardScaler\n",
    "std_x = StandardScaler()\n",
    "x_train = std_x.fit_transform(x_train)\n",
    "x_test = std_x.transform(x_test)"
   ]
  },
  {
   "cell_type": "code",
   "execution_count": 15,
   "id": "19cf27ef",
   "metadata": {},
   "outputs": [
    {
     "data": {
      "text/plain": [
       "(7500, 13)"
      ]
     },
     "execution_count": 15,
     "metadata": {},
     "output_type": "execute_result"
    }
   ],
   "source": [
    "x_train.shape"
   ]
  },
  {
   "cell_type": "markdown",
   "id": "4450abf6",
   "metadata": {},
   "source": [
    "### Tensorflow Model - Neural Network Classifier"
   ]
  },
  {
   "cell_type": "code",
   "execution_count": 16,
   "id": "1abf2fb9",
   "metadata": {},
   "outputs": [],
   "source": [
    "import tensorflow as tf\n",
    "from tensorflow.keras.layers import Dense,Conv1D,Flatten\n",
    "from tensorflow.keras.models import Sequential, Model"
   ]
  },
  {
   "cell_type": "code",
   "execution_count": 17,
   "id": "ca54c075",
   "metadata": {},
   "outputs": [],
   "source": [
    "model=Sequential()\n",
    "model.add(Flatten(input_shape=(13,)))\n",
    "model.add(Dense(100,activation='relu'))\n",
    "model.add(Dense(1,activation='sigmoid'))"
   ]
  },
  {
   "cell_type": "code",
   "execution_count": 18,
   "id": "dcd36ce7",
   "metadata": {},
   "outputs": [],
   "source": [
    "model.compile(optimizer='adam',metrics=['accuracy'],loss='BinaryCrossentropy')"
   ]
  },
  {
   "cell_type": "code",
   "execution_count": 19,
   "id": "628884fd",
   "metadata": {},
   "outputs": [
    {
     "name": "stdout",
     "output_type": "stream",
     "text": [
      "Epoch 1/100\n",
      "106/106 [==============================] - 1s 3ms/step - loss: 0.5127 - accuracy: 0.7621 - val_loss: 0.4269 - val_accuracy: 0.8240\n",
      "Epoch 2/100\n",
      "106/106 [==============================] - 0s 2ms/step - loss: 0.4306 - accuracy: 0.8119 - val_loss: 0.4042 - val_accuracy: 0.8280\n",
      "Epoch 3/100\n",
      "106/106 [==============================] - 0s 2ms/step - loss: 0.4129 - accuracy: 0.8204 - val_loss: 0.3825 - val_accuracy: 0.8400\n",
      "Epoch 4/100\n",
      "106/106 [==============================] - 0s 2ms/step - loss: 0.3970 - accuracy: 0.8323 - val_loss: 0.3681 - val_accuracy: 0.8560\n",
      "Epoch 5/100\n",
      "106/106 [==============================] - 0s 2ms/step - loss: 0.3826 - accuracy: 0.8413 - val_loss: 0.3493 - val_accuracy: 0.8653\n",
      "Epoch 6/100\n",
      "106/106 [==============================] - 0s 2ms/step - loss: 0.3712 - accuracy: 0.8428 - val_loss: 0.3389 - val_accuracy: 0.8640\n",
      "Epoch 7/100\n",
      "106/106 [==============================] - 0s 2ms/step - loss: 0.3633 - accuracy: 0.8464 - val_loss: 0.3367 - val_accuracy: 0.8693\n",
      "Epoch 8/100\n",
      "106/106 [==============================] - 0s 2ms/step - loss: 0.3578 - accuracy: 0.8513 - val_loss: 0.3273 - val_accuracy: 0.8747\n",
      "Epoch 9/100\n",
      "106/106 [==============================] - 0s 2ms/step - loss: 0.3545 - accuracy: 0.8548 - val_loss: 0.3239 - val_accuracy: 0.8747\n",
      "Epoch 10/100\n",
      "106/106 [==============================] - 0s 2ms/step - loss: 0.3511 - accuracy: 0.8570 - val_loss: 0.3213 - val_accuracy: 0.8800\n",
      "Epoch 11/100\n",
      "106/106 [==============================] - 0s 2ms/step - loss: 0.3491 - accuracy: 0.8538 - val_loss: 0.3208 - val_accuracy: 0.8760\n",
      "Epoch 12/100\n",
      "106/106 [==============================] - 0s 2ms/step - loss: 0.3463 - accuracy: 0.8548 - val_loss: 0.3179 - val_accuracy: 0.8800\n",
      "Epoch 13/100\n",
      "106/106 [==============================] - 0s 2ms/step - loss: 0.3452 - accuracy: 0.8576 - val_loss: 0.3188 - val_accuracy: 0.8800\n",
      "Epoch 14/100\n",
      "106/106 [==============================] - 0s 2ms/step - loss: 0.3439 - accuracy: 0.8590 - val_loss: 0.3194 - val_accuracy: 0.8800\n",
      "Epoch 15/100\n",
      "106/106 [==============================] - 0s 2ms/step - loss: 0.3427 - accuracy: 0.8559 - val_loss: 0.3121 - val_accuracy: 0.8827\n",
      "Epoch 16/100\n",
      "106/106 [==============================] - 0s 2ms/step - loss: 0.3422 - accuracy: 0.8588 - val_loss: 0.3133 - val_accuracy: 0.8787\n",
      "Epoch 17/100\n",
      "106/106 [==============================] - 0s 2ms/step - loss: 0.3402 - accuracy: 0.8582 - val_loss: 0.3145 - val_accuracy: 0.8733\n",
      "Epoch 18/100\n",
      "106/106 [==============================] - 0s 2ms/step - loss: 0.3402 - accuracy: 0.8584 - val_loss: 0.3155 - val_accuracy: 0.8800\n",
      "Epoch 19/100\n",
      "106/106 [==============================] - 0s 2ms/step - loss: 0.3384 - accuracy: 0.8604 - val_loss: 0.3138 - val_accuracy: 0.8827\n",
      "Epoch 20/100\n",
      "106/106 [==============================] - 0s 2ms/step - loss: 0.3382 - accuracy: 0.8575 - val_loss: 0.3261 - val_accuracy: 0.8680\n",
      "Epoch 21/100\n",
      "106/106 [==============================] - 0s 2ms/step - loss: 0.3370 - accuracy: 0.8601 - val_loss: 0.3160 - val_accuracy: 0.8773\n",
      "Epoch 22/100\n",
      "106/106 [==============================] - 0s 2ms/step - loss: 0.3364 - accuracy: 0.8612 - val_loss: 0.3211 - val_accuracy: 0.8720\n",
      "Epoch 23/100\n",
      "106/106 [==============================] - 0s 2ms/step - loss: 0.3360 - accuracy: 0.8601 - val_loss: 0.3130 - val_accuracy: 0.8787\n",
      "Epoch 24/100\n",
      "106/106 [==============================] - 0s 2ms/step - loss: 0.3354 - accuracy: 0.8604 - val_loss: 0.3139 - val_accuracy: 0.8827\n",
      "Epoch 25/100\n",
      "106/106 [==============================] - 0s 2ms/step - loss: 0.3342 - accuracy: 0.8609 - val_loss: 0.3137 - val_accuracy: 0.8840\n",
      "Epoch 26/100\n",
      "106/106 [==============================] - 0s 2ms/step - loss: 0.3335 - accuracy: 0.8600 - val_loss: 0.3156 - val_accuracy: 0.8773\n",
      "Epoch 27/100\n",
      "106/106 [==============================] - 0s 2ms/step - loss: 0.3332 - accuracy: 0.8610 - val_loss: 0.3160 - val_accuracy: 0.8773\n",
      "Epoch 28/100\n",
      "106/106 [==============================] - 0s 2ms/step - loss: 0.3329 - accuracy: 0.8600 - val_loss: 0.3155 - val_accuracy: 0.8787\n",
      "Epoch 29/100\n",
      "106/106 [==============================] - 0s 2ms/step - loss: 0.3321 - accuracy: 0.8588 - val_loss: 0.3122 - val_accuracy: 0.8813\n",
      "Epoch 30/100\n",
      "106/106 [==============================] - 0s 2ms/step - loss: 0.3312 - accuracy: 0.8607 - val_loss: 0.3143 - val_accuracy: 0.8800\n",
      "Epoch 31/100\n",
      "106/106 [==============================] - 0s 2ms/step - loss: 0.3308 - accuracy: 0.8630 - val_loss: 0.3146 - val_accuracy: 0.8800\n",
      "Epoch 32/100\n",
      "106/106 [==============================] - 0s 2ms/step - loss: 0.3309 - accuracy: 0.8622 - val_loss: 0.3127 - val_accuracy: 0.8773\n",
      "Epoch 33/100\n",
      "106/106 [==============================] - 0s 2ms/step - loss: 0.3297 - accuracy: 0.8625 - val_loss: 0.3141 - val_accuracy: 0.8707\n",
      "Epoch 34/100\n",
      "106/106 [==============================] - 0s 2ms/step - loss: 0.3301 - accuracy: 0.8630 - val_loss: 0.3192 - val_accuracy: 0.8773\n",
      "Epoch 35/100\n",
      "106/106 [==============================] - 0s 1ms/step - loss: 0.3293 - accuracy: 0.8640 - val_loss: 0.3114 - val_accuracy: 0.8840\n",
      "Epoch 36/100\n",
      "106/106 [==============================] - 0s 2ms/step - loss: 0.3283 - accuracy: 0.8640 - val_loss: 0.3195 - val_accuracy: 0.8747\n",
      "Epoch 37/100\n",
      "106/106 [==============================] - 0s 3ms/step - loss: 0.3280 - accuracy: 0.8640 - val_loss: 0.3141 - val_accuracy: 0.8787\n",
      "Epoch 38/100\n",
      "106/106 [==============================] - 0s 2ms/step - loss: 0.3277 - accuracy: 0.8636 - val_loss: 0.3175 - val_accuracy: 0.8773\n",
      "Epoch 39/100\n",
      "106/106 [==============================] - 0s 3ms/step - loss: 0.3264 - accuracy: 0.8649 - val_loss: 0.3115 - val_accuracy: 0.8827\n",
      "Epoch 40/100\n",
      "106/106 [==============================] - 0s 3ms/step - loss: 0.3272 - accuracy: 0.8646 - val_loss: 0.3125 - val_accuracy: 0.8800\n",
      "Epoch 41/100\n",
      "106/106 [==============================] - 0s 2ms/step - loss: 0.3264 - accuracy: 0.8640 - val_loss: 0.3156 - val_accuracy: 0.8840\n",
      "Epoch 42/100\n",
      "106/106 [==============================] - 0s 2ms/step - loss: 0.3256 - accuracy: 0.8653 - val_loss: 0.3145 - val_accuracy: 0.8787\n",
      "Epoch 43/100\n",
      "106/106 [==============================] - 0s 2ms/step - loss: 0.3252 - accuracy: 0.8640 - val_loss: 0.3173 - val_accuracy: 0.8747\n",
      "Epoch 44/100\n",
      "106/106 [==============================] - 0s 2ms/step - loss: 0.3244 - accuracy: 0.8644 - val_loss: 0.3189 - val_accuracy: 0.8733\n",
      "Epoch 45/100\n",
      "106/106 [==============================] - 0s 2ms/step - loss: 0.3247 - accuracy: 0.8652 - val_loss: 0.3118 - val_accuracy: 0.8813\n",
      "Epoch 46/100\n",
      "106/106 [==============================] - 0s 2ms/step - loss: 0.3243 - accuracy: 0.8670 - val_loss: 0.3259 - val_accuracy: 0.8653\n",
      "Epoch 47/100\n",
      "106/106 [==============================] - 0s 2ms/step - loss: 0.3242 - accuracy: 0.8649 - val_loss: 0.3159 - val_accuracy: 0.8773\n",
      "Epoch 48/100\n",
      "106/106 [==============================] - 0s 2ms/step - loss: 0.3230 - accuracy: 0.8649 - val_loss: 0.3152 - val_accuracy: 0.8773\n",
      "Epoch 49/100\n",
      "106/106 [==============================] - 0s 2ms/step - loss: 0.3229 - accuracy: 0.8655 - val_loss: 0.3151 - val_accuracy: 0.8773\n",
      "Epoch 50/100\n",
      "106/106 [==============================] - 0s 1ms/step - loss: 0.3219 - accuracy: 0.8679 - val_loss: 0.3148 - val_accuracy: 0.8773\n",
      "Epoch 51/100\n",
      "106/106 [==============================] - 0s 2ms/step - loss: 0.3223 - accuracy: 0.8655 - val_loss: 0.3139 - val_accuracy: 0.8747\n",
      "Epoch 52/100\n",
      "106/106 [==============================] - 0s 2ms/step - loss: 0.3211 - accuracy: 0.8641 - val_loss: 0.3122 - val_accuracy: 0.8827\n",
      "Epoch 53/100\n",
      "106/106 [==============================] - 0s 2ms/step - loss: 0.3208 - accuracy: 0.8643 - val_loss: 0.3139 - val_accuracy: 0.8800\n",
      "Epoch 54/100\n",
      "106/106 [==============================] - 0s 2ms/step - loss: 0.3213 - accuracy: 0.8658 - val_loss: 0.3193 - val_accuracy: 0.8840\n",
      "Epoch 55/100\n",
      "106/106 [==============================] - 0s 2ms/step - loss: 0.3200 - accuracy: 0.8674 - val_loss: 0.3175 - val_accuracy: 0.8773\n",
      "Epoch 56/100\n",
      "106/106 [==============================] - 0s 2ms/step - loss: 0.3201 - accuracy: 0.8665 - val_loss: 0.3183 - val_accuracy: 0.8813\n",
      "Epoch 57/100\n",
      "106/106 [==============================] - 0s 2ms/step - loss: 0.3186 - accuracy: 0.8656 - val_loss: 0.3200 - val_accuracy: 0.8773\n",
      "Epoch 58/100\n",
      "106/106 [==============================] - 0s 2ms/step - loss: 0.3182 - accuracy: 0.8690 - val_loss: 0.3201 - val_accuracy: 0.8693\n",
      "Epoch 59/100\n",
      "106/106 [==============================] - 0s 2ms/step - loss: 0.3192 - accuracy: 0.8667 - val_loss: 0.3132 - val_accuracy: 0.8813\n",
      "Epoch 60/100\n",
      "106/106 [==============================] - 0s 2ms/step - loss: 0.3178 - accuracy: 0.8665 - val_loss: 0.3112 - val_accuracy: 0.8733\n",
      "Epoch 61/100\n",
      "106/106 [==============================] - 0s 2ms/step - loss: 0.3180 - accuracy: 0.8664 - val_loss: 0.3169 - val_accuracy: 0.8773\n",
      "Epoch 62/100\n",
      "106/106 [==============================] - 0s 2ms/step - loss: 0.3176 - accuracy: 0.8670 - val_loss: 0.3081 - val_accuracy: 0.8853\n",
      "Epoch 63/100\n",
      "106/106 [==============================] - 0s 2ms/step - loss: 0.3173 - accuracy: 0.8679 - val_loss: 0.3083 - val_accuracy: 0.8827\n",
      "Epoch 64/100\n",
      "106/106 [==============================] - 0s 2ms/step - loss: 0.3167 - accuracy: 0.8668 - val_loss: 0.3162 - val_accuracy: 0.8800\n",
      "Epoch 65/100\n",
      "106/106 [==============================] - 0s 2ms/step - loss: 0.3158 - accuracy: 0.8693 - val_loss: 0.3078 - val_accuracy: 0.8853\n",
      "Epoch 66/100\n",
      "106/106 [==============================] - 0s 2ms/step - loss: 0.3166 - accuracy: 0.8702 - val_loss: 0.3172 - val_accuracy: 0.8787\n",
      "Epoch 67/100\n",
      "106/106 [==============================] - 0s 2ms/step - loss: 0.3155 - accuracy: 0.8668 - val_loss: 0.3199 - val_accuracy: 0.8840\n",
      "Epoch 68/100\n",
      "106/106 [==============================] - 0s 2ms/step - loss: 0.3159 - accuracy: 0.8687 - val_loss: 0.3183 - val_accuracy: 0.8800\n",
      "Epoch 69/100\n",
      "106/106 [==============================] - 0s 2ms/step - loss: 0.3145 - accuracy: 0.8696 - val_loss: 0.3296 - val_accuracy: 0.8693\n",
      "Epoch 70/100\n",
      "106/106 [==============================] - 0s 2ms/step - loss: 0.3146 - accuracy: 0.8683 - val_loss: 0.3136 - val_accuracy: 0.8853\n",
      "Epoch 71/100\n",
      "106/106 [==============================] - 0s 2ms/step - loss: 0.3137 - accuracy: 0.8720 - val_loss: 0.3091 - val_accuracy: 0.8853\n",
      "Epoch 72/100\n",
      "106/106 [==============================] - 0s 2ms/step - loss: 0.3125 - accuracy: 0.8701 - val_loss: 0.3139 - val_accuracy: 0.8840\n",
      "Epoch 73/100\n",
      "106/106 [==============================] - 0s 2ms/step - loss: 0.3132 - accuracy: 0.8687 - val_loss: 0.3153 - val_accuracy: 0.8840\n",
      "Epoch 74/100\n",
      "106/106 [==============================] - 0s 2ms/step - loss: 0.3123 - accuracy: 0.8692 - val_loss: 0.3137 - val_accuracy: 0.8813\n",
      "Epoch 75/100\n",
      "106/106 [==============================] - 0s 3ms/step - loss: 0.3122 - accuracy: 0.8724 - val_loss: 0.3161 - val_accuracy: 0.8840\n",
      "Epoch 76/100\n",
      "106/106 [==============================] - 0s 3ms/step - loss: 0.3109 - accuracy: 0.8707 - val_loss: 0.3172 - val_accuracy: 0.8840\n",
      "Epoch 77/100\n",
      "106/106 [==============================] - 0s 2ms/step - loss: 0.3109 - accuracy: 0.8714 - val_loss: 0.3209 - val_accuracy: 0.8760\n",
      "Epoch 78/100\n",
      "106/106 [==============================] - 0s 3ms/step - loss: 0.3102 - accuracy: 0.8721 - val_loss: 0.3160 - val_accuracy: 0.8747\n",
      "Epoch 79/100\n",
      "106/106 [==============================] - 0s 2ms/step - loss: 0.3116 - accuracy: 0.8701 - val_loss: 0.3096 - val_accuracy: 0.8813\n",
      "Epoch 80/100\n",
      "106/106 [==============================] - 0s 3ms/step - loss: 0.3096 - accuracy: 0.8730 - val_loss: 0.3152 - val_accuracy: 0.8867\n",
      "Epoch 81/100\n",
      "106/106 [==============================] - 0s 4ms/step - loss: 0.3095 - accuracy: 0.8707 - val_loss: 0.3129 - val_accuracy: 0.8853\n",
      "Epoch 82/100\n",
      "106/106 [==============================] - 0s 4ms/step - loss: 0.3091 - accuracy: 0.8732 - val_loss: 0.3210 - val_accuracy: 0.8787\n",
      "Epoch 83/100\n",
      "106/106 [==============================] - 0s 4ms/step - loss: 0.3112 - accuracy: 0.8699 - val_loss: 0.3174 - val_accuracy: 0.8827\n",
      "Epoch 84/100\n",
      "106/106 [==============================] - 0s 4ms/step - loss: 0.3080 - accuracy: 0.8738 - val_loss: 0.3105 - val_accuracy: 0.8813\n",
      "Epoch 85/100\n",
      "106/106 [==============================] - 0s 4ms/step - loss: 0.3077 - accuracy: 0.8723 - val_loss: 0.3263 - val_accuracy: 0.8733\n",
      "Epoch 86/100\n",
      "106/106 [==============================] - 0s 3ms/step - loss: 0.3075 - accuracy: 0.8723 - val_loss: 0.3211 - val_accuracy: 0.8760\n",
      "Epoch 87/100\n",
      "106/106 [==============================] - 0s 5ms/step - loss: 0.3065 - accuracy: 0.8741 - val_loss: 0.3128 - val_accuracy: 0.8813\n",
      "Epoch 88/100\n",
      "106/106 [==============================] - 0s 4ms/step - loss: 0.3080 - accuracy: 0.8723 - val_loss: 0.3162 - val_accuracy: 0.8840\n",
      "Epoch 89/100\n",
      "106/106 [==============================] - 0s 3ms/step - loss: 0.3055 - accuracy: 0.8726 - val_loss: 0.3158 - val_accuracy: 0.8800\n",
      "Epoch 90/100\n",
      "106/106 [==============================] - 0s 4ms/step - loss: 0.3064 - accuracy: 0.8735 - val_loss: 0.3130 - val_accuracy: 0.8800\n",
      "Epoch 91/100\n",
      "106/106 [==============================] - 0s 4ms/step - loss: 0.3059 - accuracy: 0.8711 - val_loss: 0.3175 - val_accuracy: 0.8867\n",
      "Epoch 92/100\n",
      "106/106 [==============================] - 0s 4ms/step - loss: 0.3051 - accuracy: 0.8735 - val_loss: 0.3245 - val_accuracy: 0.8733\n",
      "Epoch 93/100\n",
      "106/106 [==============================] - 0s 2ms/step - loss: 0.3059 - accuracy: 0.8748 - val_loss: 0.3102 - val_accuracy: 0.8840\n",
      "Epoch 94/100\n",
      "106/106 [==============================] - 0s 5ms/step - loss: 0.3042 - accuracy: 0.8736 - val_loss: 0.3182 - val_accuracy: 0.8787\n",
      "Epoch 95/100\n",
      "106/106 [==============================] - 0s 4ms/step - loss: 0.3042 - accuracy: 0.8735 - val_loss: 0.3116 - val_accuracy: 0.8880\n",
      "Epoch 96/100\n",
      "106/106 [==============================] - 0s 4ms/step - loss: 0.3049 - accuracy: 0.8745 - val_loss: 0.3147 - val_accuracy: 0.8867\n",
      "Epoch 97/100\n",
      "106/106 [==============================] - 0s 4ms/step - loss: 0.3038 - accuracy: 0.8757 - val_loss: 0.3231 - val_accuracy: 0.8800\n",
      "Epoch 98/100\n",
      "106/106 [==============================] - 0s 4ms/step - loss: 0.3032 - accuracy: 0.8741 - val_loss: 0.3204 - val_accuracy: 0.8747\n",
      "Epoch 99/100\n",
      "106/106 [==============================] - 0s 2ms/step - loss: 0.3027 - accuracy: 0.8751 - val_loss: 0.3136 - val_accuracy: 0.8760\n",
      "Epoch 100/100\n",
      "106/106 [==============================] - 0s 2ms/step - loss: 0.3022 - accuracy: 0.8751 - val_loss: 0.3300 - val_accuracy: 0.8747\n"
     ]
    },
    {
     "data": {
      "text/plain": [
       "<keras.src.callbacks.History at 0x2a6b1db2fe0>"
      ]
     },
     "execution_count": 19,
     "metadata": {},
     "output_type": "execute_result"
    }
   ],
   "source": [
    "model.fit(x_train,y_train,batch_size=64,validation_split=0.1,epochs=100)"
   ]
  },
  {
   "cell_type": "code",
   "execution_count": 20,
   "id": "cb349c5f",
   "metadata": {},
   "outputs": [
    {
     "name": "stdout",
     "output_type": "stream",
     "text": [
      "79/79 [==============================] - 0s 3ms/step\n"
     ]
    }
   ],
   "source": [
    "pred = model.predict(x_test)"
   ]
  },
  {
   "cell_type": "code",
   "execution_count": 21,
   "id": "0117723d",
   "metadata": {},
   "outputs": [],
   "source": [
    "y_pred = []\n",
    "for val in pred:\n",
    "    if val > 0.5:\n",
    "        y_pred.append(1)\n",
    "    else:\n",
    "        y_pred.append(0)"
   ]
  },
  {
   "cell_type": "code",
   "execution_count": 22,
   "id": "ad1f3f74",
   "metadata": {},
   "outputs": [],
   "source": [
    "from sklearn.metrics import accuracy_score,confusion_matrix,ConfusionMatrixDisplay"
   ]
  },
  {
   "cell_type": "code",
   "execution_count": 23,
   "id": "cd6ebb87",
   "metadata": {},
   "outputs": [
    {
     "data": {
      "text/plain": [
       "0.8564"
      ]
     },
     "execution_count": 23,
     "metadata": {},
     "output_type": "execute_result"
    }
   ],
   "source": [
    "accuracy_score(y_test,y_pred)"
   ]
  },
  {
   "cell_type": "code",
   "execution_count": 24,
   "id": "bd015e4f",
   "metadata": {},
   "outputs": [
    {
     "data": {
      "text/plain": [
       "<sklearn.metrics._plot.confusion_matrix.ConfusionMatrixDisplay at 0x2a6b0bb7070>"
      ]
     },
     "execution_count": 24,
     "metadata": {},
     "output_type": "execute_result"
    },
    {
     "data": {
      "image/png": "[encoded data removed]",
      "text/plain": [
       "<Figure size 640x480 with 2 Axes>"
      ]
     },
     "metadata": {},
     "output_type": "display_data"
    }
   ],
   "source": [
    "cm = confusion_matrix(y_test,y_pred)\n",
    "display = ConfusionMatrixDisplay(cm)\n",
    "display.plot()"
   ]
  },
  {
   "cell_type": "code",
   "execution_count": 25,
   "id": "5f667de5",
   "metadata": {},
   "outputs": [],
   "source": [
    "from sklearn.neural_network import MLPClassifier"
   ]
  },
  {
   "cell_type": "code",
   "execution_count": 26,
   "id": "e4efc05b",
   "metadata": {},
   "outputs": [
    {
     "name": "stderr",
     "output_type": "stream",
     "text": [
      "c:\\Users\\hp\\anaconda3\\lib\\site-packages\\sklearn\\neural_network\\_multilayer_perceptron.py:691: ConvergenceWarning: Stochastic Optimizer: Maximum iterations (300) reached and the optimization hasn't converged yet.\n",
      "  warnings.warn(\n"
     ]
    },
    {
     "data": {
      "text/html": [
       "<style>#sk-container-id-1 {color: black;}#sk-container-id-1 pre{padding: 0;}#sk-container-id-1 div.sk-toggleable {background-color: white;}#sk-container-id-1 label.sk-toggleable__label {cursor: pointer;display: block;width: 100%;margin-bottom: 0;padding: 0.3em;box-sizing: border-box;text-align: center;}#sk-container-id-1 label.sk-toggleable__label-arrow:before {content: \"▸\";float: left;margin-right: 0.25em;color: #696969;}#sk-container-id-1 label.sk-toggleable__label-arrow:hover:before {color: black;}#sk-container-id-1 div.sk-estimator:hover label.sk-toggleable__label-arrow:before {color: black;}#sk-container-id-1 div.sk-toggleable__content {max-height: 0;max-width: 0;overflow: hidden;text-align: left;background-color: #f0f8ff;}#sk-container-id-1 div.sk-toggleable__content pre {margin: 0.2em;color: black;border-radius: 0.25em;background-color: #f0f8ff;}#sk-container-id-1 input.sk-toggleable__control:checked~div.sk-toggleable__content {max-height: 200px;max-width: 100%;overflow: auto;}#sk-container-id-1 input.sk-toggleable__control:checked~label.sk-toggleable__label-arrow:before {content: \"▾\";}#sk-container-id-1 div.sk-estimator input.sk-toggleable__control:checked~label.sk-toggleable__label {background-color: #d4ebff;}#sk-container-id-1 div.sk-label input.sk-toggleable__control:checked~label.sk-toggleable__label {background-color: #d4ebff;}#sk-container-id-1 input.sk-hidden--visually {border: 0;clip: rect(1px 1px 1px 1px);clip: rect(1px, 1px, 1px, 1px);height: 1px;margin: -1px;overflow: hidden;padding: 0;position: absolute;width: 1px;}#sk-container-id-1 div.sk-estimator {font-family: monospace;background-color: #f0f8ff;border: 1px dotted black;border-radius: 0.25em;box-sizing: border-box;margin-bottom: 0.5em;}#sk-container-id-1 div.sk-estimator:hover {background-color: #d4ebff;}#sk-container-id-1 div.sk-parallel-item::after {content: \"\";width: 100%;border-bottom: 1px solid gray;flex-grow: 1;}#sk-container-id-1 div.sk-label:hover label.sk-toggleable__label {background-color: #d4ebff;}#sk-container-id-1 div.sk-serial::before {content: \"\";position: absolute;border-left: 1px solid gray;box-sizing: border-box;top: 0;bottom: 0;left: 50%;z-index: 0;}#sk-container-id-1 div.sk-serial {display: flex;flex-direction: column;align-items: center;background-color: white;padding-right: 0.2em;padding-left: 0.2em;position: relative;}#sk-container-id-1 div.sk-item {position: relative;z-index: 1;}#sk-container-id-1 div.sk-parallel {display: flex;align-items: stretch;justify-content: center;background-color: white;position: relative;}#sk-container-id-1 div.sk-item::before, #sk-container-id-1 div.sk-parallel-item::before {content: \"\";position: absolute;border-left: 1px solid gray;box-sizing: border-box;top: 0;bottom: 0;left: 50%;z-index: -1;}#sk-container-id-1 div.sk-parallel-item {display: flex;flex-direction: column;z-index: 1;position: relative;background-color: white;}#sk-container-id-1 div.sk-parallel-item:first-child::after {align-self: flex-end;width: 50%;}#sk-container-id-1 div.sk-parallel-item:last-child::after {align-self: flex-start;width: 50%;}#sk-container-id-1 div.sk-parallel-item:only-child::after {width: 0;}#sk-container-id-1 div.sk-dashed-wrapped {border: 1px dashed gray;margin: 0 0.4em 0.5em 0.4em;box-sizing: border-box;padding-bottom: 0.4em;background-color: white;}#sk-container-id-1 div.sk-label label {font-family: monospace;font-weight: bold;display: inline-block;line-height: 1.2em;}#sk-container-id-1 div.sk-label-container {text-align: center;}#sk-container-id-1 div.sk-container {/* jupyter's `normalize.less` sets `[hidden] { display: none; }` but bootstrap.min.css set `[hidden] { display: none !important; }` so we also need the `!important` here to be able to override the default hidden behavior on the sphinx rendered scikit-learn.org. See: https://github.com/scikit-learn/scikit-learn/issues/21755 */display: inline-block !important;position: relative;}#sk-container-id-1 div.sk-text-repr-fallback {display: none;}</style><div id=\"sk-container-id-1\" class=\"sk-top-container\"><div class=\"sk-text-repr-fallback\"><pre>MLPClassifier(activation=&#x27;logistic&#x27;, hidden_layer_sizes=100, max_iter=300)</pre><b>In a Jupyter environment, please rerun this cell to show the HTML representation or trust the notebook. <br />On GitHub, the HTML representation is unable to render, please try loading this page with nbviewer.org.</b></div><div class=\"sk-container\" hidden><div class=\"sk-item\"><div class=\"sk-estimator sk-toggleable\"><input class=\"sk-toggleable__control sk-hidden--visually\" id=\"sk-estimator-id-1\" type=\"checkbox\" checked><label for=\"sk-estimator-id-1\" class=\"sk-toggleable__label sk-toggleable__label-arrow\">MLPClassifier</label><div class=\"sk-toggleable__content\"><pre>MLPClassifier(activation=&#x27;logistic&#x27;, hidden_layer_sizes=100, max_iter=300)</pre></div></div></div></div></div>"
      ],
      "text/plain": [
       "MLPClassifier(activation='logistic', hidden_layer_sizes=100, max_iter=300)"
      ]
     },
     "execution_count": 26,
     "metadata": {},
     "output_type": "execute_result"
    }
   ],
   "source": [
    "nn_classifier = MLPClassifier(hidden_layer_sizes=(100),activation='logistic',max_iter=300,)\n",
    "nn_classifier.fit(x_train,y_train)"
   ]
  },
  {
   "cell_type": "code",
   "execution_count": 27,
   "id": "41c06030",
   "metadata": {},
   "outputs": [],
   "source": [
    "y_pred2 = nn_classifier.predict(x_test)"
   ]
  },
  {
   "cell_type": "code",
   "execution_count": 28,
   "id": "c98f26d0",
   "metadata": {},
   "outputs": [
    {
     "data": {
      "text/plain": [
       "0.8648"
      ]
     },
     "execution_count": 28,
     "metadata": {},
     "output_type": "execute_result"
    }
   ],
   "source": [
    "accuracy_score(y_pred=y_pred2,y_true=y_test)"
   ]
  },
  {
   "cell_type": "code",
   "execution_count": 29,
   "id": "070d1fbe",
   "metadata": {},
   "outputs": [
    {
     "data": {
      "text/plain": [
       "0.8648"
      ]
     },
     "execution_count": 29,
     "metadata": {},
     "output_type": "execute_result"
    }
   ],
   "source": [
    "nn_classifier.score(x_test,y_test)"
   ]
  },
  {
   "cell_type": "code",
   "execution_count": null,
   "id": "c3262995",
   "metadata": {},
   "outputs": [],
   "source": []
  }
 ],
 "metadata": {
  "kernelspec": {
   "display_name": "Python 3 (ipykernel)",
   "language": "python",
   "name": "python3"
  },
  "language_info": {
   "codemirror_mode": {
    "name": "ipython",
    "version": 3
   },
   "file_extension": ".py",
   "mimetype": "text/x-python",
   "name": "python",
   "nbconvert_exporter": "python",
   "pygments_lexer": "ipython3",
   "version": "3.10.9"
  }
 },
 "nbformat": 4,
 "nbformat_minor": 5
}
